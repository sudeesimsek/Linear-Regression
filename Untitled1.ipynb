{
  "nbformat": 4,
  "nbformat_minor": 0,
  "metadata": {
    "colab": {
      "name": "Untitled1.ipynb",
      "provenance": [],
      "collapsed_sections": []
    },
    "kernelspec": {
      "name": "python3",
      "display_name": "Python 3"
    },
    "language_info": {
      "name": "python"
    }
  },
  "cells": [
    {
      "cell_type": "code",
      "metadata": {
        "colab": {
          "base_uri": "https://localhost:8080/"
        },
        "id": "ZUX16bXm3WWy",
        "outputId": "64270b55-5e71-40dd-837c-2688983cc1ed"
      },
      "source": [
        "#drive bağlama\n",
        "from google.colab import drive\n",
        "drive.mount('/content/drive')\n"
      ],
      "execution_count": null,
      "outputs": [
        {
          "output_type": "stream",
          "text": [
            "Mounted at /content/drive\n"
          ],
          "name": "stdout"
        }
      ]
    },
    {
      "cell_type": "code",
      "metadata": {
        "id": "oPKBhQm05PyF"
      },
      "source": [
        "dosya = '/content/drive/MyDrive/Colab Notebooks/veri seti.csv'"
      ],
      "execution_count": null,
      "outputs": []
    },
    {
      "cell_type": "code",
      "metadata": {
        "colab": {
          "base_uri": "https://localhost:8080/"
        },
        "id": "xZkp7LP8GDq9",
        "outputId": "11074220-d128-46c8-fd3f-b2de7507fa17"
      },
      "source": [
        "#linear Regression\n",
        "from pandas import read_csv\n",
        "from sklearn.model_selection import KFold\n",
        "from sklearn.model_selection import cross_val_score\n",
        "from sklearn.linear_model import LinearRegression\n",
        "url = '/content/drive/MyDrive/Colab Notebooks/veri seti.csv'\n",
        "isimler = ['FT', 'OS', 'BK', 'BT', 'NT']\n",
        "veri = read_csv(url, delim_whitespace=True, names=isimler)\n",
        "dizi= veri.values\n",
        "X = dizi [:,0:5]\n",
        "Y = dizi [:,4]\n",
        "kfold = KFold(n_splits=200)\n",
        "model = LinearRegression()\n",
        "scoring = 'neg_mean_squared_error'\n",
        "results = cross_val_score(model, X, Y, cv=kfold, scoring=scoring)\n",
        "print(results.mean())\n"
      ],
      "execution_count": null,
      "outputs": [
        {
          "output_type": "stream",
          "text": [
            "-1.2633803034619e-25\n"
          ],
          "name": "stdout"
        }
      ]
    }
  ]
}